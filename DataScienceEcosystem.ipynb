{
 "cells": [
  {
   "cell_type": "markdown",
   "id": "5cd3b2cd-89a9-4f41-bae1-a39890ef5b42",
   "metadata": {},
   "source": [
    "# Data Science Tools and Ecosystem"
   ]
  },
  {
   "cell_type": "markdown",
   "id": "ddddd920-f0e4-403d-a3be-e782ab5518e8",
   "metadata": {},
   "source": [
    "In this notebook, Data Science Tools and Ecosystem are summarized."
   ]
  },
  {
   "cell_type": "markdown",
   "id": "f1184e65-4175-4b0c-81f2-694682531cc5",
   "metadata": {},
   "source": [
    "**Objectives:**\n",
    "+ python\n",
    "+ java\n",
    "+ scala\n",
    "+ R\n",
    "+ Julia"
   ]
  },
  {
   "cell_type": "markdown",
   "id": "eee0376c-8794-4e95-acf9-0d5071718c46",
   "metadata": {},
   "source": [
    "Some of the popular languages that Data Scientists use are:\n",
    "1. Python\n",
    "2. R\n",
    "3. Scala"
   ]
  },
  {
   "cell_type": "markdown",
   "id": "b10a050e-c1c4-48ce-86e9-c1c752e04ebd",
   "metadata": {},
   "source": [
    "Some of the commonly used libraries used by Data Scientists include:\n",
    "1. Pytorch\n",
    "2. matpotlib\n",
    "3. tensorflow"
   ]
  },
  {
   "cell_type": "markdown",
   "id": "ac277b83-85e8-46b6-bca0-e0250cc3a8df",
   "metadata": {},
   "source": [
    "|Data Science Tools|\n",
    "|------------------|\n",
    "| mongoDB          |\n",
    "| Airflow          |\n",
    "| kubernetes       |"
   ]
  },
  {
   "cell_type": "markdown",
   "id": "ad6c0917-42e3-4bff-a881-61d0c9b5ad94",
   "metadata": {},
   "source": [
    "### Below are a few examples of evaluating arithmetic expressions in Python"
   ]
  },
  {
   "cell_type": "code",
   "execution_count": 1,
   "id": "41768efa-e72a-47de-aa51-bedf214493aa",
   "metadata": {
    "tags": []
   },
   "outputs": [
    {
     "data": {
      "text/plain": [
       "17"
      ]
     },
     "execution_count": 1,
     "metadata": {},
     "output_type": "execute_result"
    }
   ],
   "source": [
    "# This a simple arithmetic expression to mutiply then add integers\n",
    "(3*4)+5"
   ]
  },
  {
   "cell_type": "code",
   "execution_count": 2,
   "id": "13e7fc2c-89e2-403d-b05a-5bea22061606",
   "metadata": {
    "tags": []
   },
   "outputs": [
    {
     "data": {
      "text/plain": [
       "3.3333333333333335"
      ]
     },
     "execution_count": 2,
     "metadata": {},
     "output_type": "execute_result"
    }
   ],
   "source": [
    "# This will convert 200 minutes to hours by diving by 60\n",
    "200/60"
   ]
  },
  {
   "cell_type": "markdown",
   "id": "db5d46bd-ebe9-4490-8020-e0c15f974922",
   "metadata": {},
   "source": [
    "## Author\n",
    "Mohamed Shabeer S"
   ]
  },
  {
   "cell_type": "code",
   "execution_count": null,
   "id": "9a96d022-9877-48db-be8d-ebc112100233",
   "metadata": {},
   "outputs": [],
   "source": []
  }
 ],
 "metadata": {
  "kernelspec": {
   "display_name": "Python",
   "language": "python",
   "name": "conda-env-python-py"
  },
  "language_info": {
   "codemirror_mode": {
    "name": "ipython",
    "version": 3
   },
   "file_extension": ".py",
   "mimetype": "text/x-python",
   "name": "python",
   "nbconvert_exporter": "python",
   "pygments_lexer": "ipython3",
   "version": "3.7.12"
  }
 },
 "nbformat": 4,
 "nbformat_minor": 5
}
